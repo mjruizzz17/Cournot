{
  "cells": [
    {
      "cell_type": "markdown",
      "metadata": {
        "id": "Mq3aulDhkK2F"
      },
      "source": [
        "# **The Cournot Model of Oligopoly**\n",
        "\n",
        "An **oligopoly** is defined as a market structure in which a small number of firms dominate, and there are substantial barriers to entry that prevent other firms from easily entering the market. These firms have significant market power and their actions directly influence each other.\n",
        "\n",
        "In 1838, economist **Augustin Cournot** developed a model to explain how firms in an oligopoly, specifically in a **duopoly** (a market with two firms), choose quantities of output simultaneously and noncooperatively (without collusion or knowledge of each other’s plans). The market price adjusts instantly to clear the market based on the total output of both firms.\n",
        "\n",
        "Each firm selects its output to maximize profit, based on expectations of the other firm’s output. The market price depends on the combined output of both firms, and isn’t known until both firms have made their choices. The ultimate goal of the firms is to find the **Cournot equilibrium(or Nash equilibrium)**, where marginal revenue equals marginal cost for both firms, and neither firm can improve its profit by changing its output alone.\n",
        "\n",
        "1. **Market Demand Function:**\n",
        "   The market price (P) depends on the total quantity produced by both firms:\n",
        "    $$\n",
        "    \\begin{align}\n",
        "    \\ P = P(Q) = P(q_1 + q_2) = m(q_1 + q_2) + b \\\\\n",
        "    \\end{align}\n",
        "    $$\n",
        "\n",
        "   where:\n",
        "   \\begin{align*}\n",
        "   q_1 &= \\text{output of Firm 1} \\\\\n",
        "   q_2 &= \\text{output of Firm 2} \\\\\n",
        "   m &= \\text{slope of the demand curve} \\\\\n",
        "   b &= \\text{intercept of the demand curve}\n",
        "   \\end{align*}\n",
        "   \n",
        "\n",
        "2. **Cost Functions:**\n",
        "   \n",
        "   For firm 1 costs can be represented as:\n",
        "   $$\n",
        "   \\begin{align*}\n",
        "   \\ C_1 = c * q_1 \\\\\n",
        "   \\end{align*}\n",
        "   $$\n",
        "    \n",
        "   Same follows for firm 2:\n",
        "   $$\n",
        "   \\begin{align*}\n",
        "   \\ C_2 = c * q_2 \\\\\n",
        "   \\end{align*}\n",
        "   $$\n",
        "\n",
        "3. **Profit Functions:**\n",
        "\n",
        "   Each firm's profit is it's revenue minus it's costs, where firm 1:\n",
        "   $$\n",
        "   \\begin{align*}\n",
        "   \\pi_1 &= Pq_1 - C_1 \\\\\n",
        "   \\end{align*}\n",
        "   $$\n",
        "   And Firm 2:\n",
        "   $$\n",
        "   \\begin{align*}\n",
        "   \\pi_2 & =Pq_2-C_2\\\\\n",
        "   \\end{align*}\n",
        "   $$\n",
        "\n",
        "4. **First-Order Conditions (FOCs):**\n",
        "\n",
        "   In Cournot firms seek to maximize profit. Let's find the value (or values) of $q_1$ that maximize the profit function for firm 1:\n",
        "\n",
        "   $$\n",
        "   \\begin{align*}\n",
        "   \\frac{\\partial{\\pi_1}}{\\partial{q_1}}= 0\n",
        "   \\end{align*}\n",
        "   $$\n",
        "\n",
        "   Now let's find firm 2's:\n",
        "\n",
        "   $$\n",
        "   \\begin{align*}\n",
        "   \\frac{\\partial{\\pi_2}}{\\partial{q_2}}= 0\n",
        "   \\end{align*}\n",
        "   $$\n",
        "\n",
        "5. **Reaction Functions**\n",
        "\n",
        "   Solving for  $q_1$ and $q_2$ in terms of each other:\n",
        "   $$\n",
        "   q_1 = f(q_2)\n",
        "   $$\n",
        "   $$\n",
        "   q_2 = f(q_1)\n",
        "   $$\n",
        "\n",
        "6. **Cournot Equilibrium**\n",
        "\n",
        "   To find the equilibrium, solve the system of equations simultaneously:\n",
        "   $$\n",
        "   q_1^* = f(q_2^*)\n",
        "   $$\n",
        "   $$\n",
        "   q_2^* = f(q_1^*)\n",
        "   $$\n",
        "\n",
        "7. **Total Market Quantity and Price**\n",
        "\n",
        "   Total output in the market:\n",
        "   $$\n",
        "   Q^* = q_1^* + q_2^*\n",
        "   $$\n",
        "   Equilibrium price:\n",
        "   $$\n",
        "   P^* = P(Q^*)\n",
        "   $$\n",
        "\n",
        "8. **Profits in Equilibrium**\n",
        "\n",
        "   Each firm’s equilibrium profit:\n",
        "   $$\n",
        "   \\pi_1^* = P^* q_1^* - C_1(q_1^*)\n",
        "   $$\n",
        "   $$\n",
        "   \\pi_2^* = P^* q_2^* - C_2(q_2^*)\n",
        "   $$\n"
      ]
    },
    {
      "cell_type": "markdown",
      "metadata": {
        "id": "zz90uajCkK2I"
      },
      "source": [
        "# **NVIDIA vs. Samsung**\n",
        "\n",
        "For this project, we are looking at the competition between NVIDIA and Samsung in the DRAM chip market.\n",
        "Both firms produce identical DRAM chips and have the same marginal costs.\n",
        "\n",
        "In an oligopoly, firms are **interdependent**, which means that their output decisions directly affect each other’s profits. For example, NVIDIA's chip profits depend on how much competitors like Samsung produce. If rivals increase output, prices fall; if they cut production, prices rise. Because of this, firms in an oligopoly must carefully predict and respond to competitors' actions, making competition more strategic than in other market structures.\n",
        "\n",
        "### 1. Market Demand Curve:\n",
        "The **demand function** for DRAM chips is:\n",
        "   $$\n",
        "   \\begin{align}\n",
        "   \\ P = 100 - q_1 - q_2 \\\\\n",
        "   \\end{align}\n",
        "   $$\n",
        "   where:\n",
        "   $$\n",
        "   \\begin{align*}\n",
        "   P &= \\text{market price of DRAM chips} \\\\\n",
        "   q_1 &= \\text{output of NVIDIA} \\\\\n",
        "   q_2 &= \\text{output of Samsung} \\\\\n",
        "   \\end{align*}\n",
        "   $$\n",
        "\n",
        "It can be inferred that since both firms produce identical DRAM chips, they are **quantity-setting competitors**. Because each firm determines its output while considering the other’s decision, it means that their choices directly influence the market price and the rival’s profits.\n",
        "\n",
        "**Breaking down the demand function:**\n",
        "\n",
        "- The intercept $100$ represents the **maximum possible price** in the market when no DRAM chips are produced (when $q_1=0$ and $q_2=0$)\n",
        "- The negative terms $q_1$ and $q_2$ indicate that for every additional chip produced, the price decreases by $1$ unit.  This represents a **downward-sloping demand curve**, meaning that as more chips enter the market, the price falls.\n",
        "\n",
        "**What happens when either $q_1$ or $q_2$ increases?**\n",
        "\n",
        "- If NVIDIA increases its output, the market price falls because more DRAM chips are available in the market.\n",
        "- If Samsung increases its output, the same happens—the total market supply increases, and the price falls.\n",
        "- Each firm must balance producing more chips to gain market share while avoiding price drops that could reduce overall profits.\n",
        "\n",
        "\n",
        "### 2. Cost Function:\n",
        "   \n",
        "   Each firm has a **marginal cost (MC) of 10**:\n",
        "   $$\n",
        "   \\begin{align*}\n",
        "   \\ P = 100 - q_1 - q_2 \\\\\n",
        "   \\ C_1 = 10 * q_1 \\\\\n",
        "   \\ C_2 = 10 * q_2\n",
        "   \\end{align*}\n",
        "   $$\n",
        "$C_1$ and $C_2$ represent the total cost of production for each firm. The marginal cost $10$ represents the cost of producing one additional DRAM chip. While $q_1$ and $q_2$ represents the number of units each firm produces.\n",
        "\n",
        "It can be inferred that since the cost function is linear, there are no **economies of scale**. Because cost increases proportionally with output, it means that the marginal cost remains constant at 10 for each additional unit produced.\n",
        "\n",
        "Let's obtain the profit equations:"
      ]
    },
    {
      "cell_type": "code",
      "execution_count": 6,
      "metadata": {
        "id": "FoCorfq0kK2J",
        "outputId": "6b080be9-4e65-418c-ac1f-3f0277362c5f",
        "colab": {
          "base_uri": "https://localhost:8080/"
        }
      },
      "outputs": [
        {
          "output_type": "stream",
          "name": "stdout",
          "text": [
            "pi1 = -q1**2 - q1*q2 + 90*q1\n",
            "pi2 = -q1*q2 - q2**2 + 90*q2\n"
          ]
        }
      ],
      "source": [
        "import sympy as sp\n",
        "\n",
        "q1, q2 = sp.symbols('q1 q2')\n",
        "p = 100 - q1 - q2\n",
        "\n",
        "R1 = p * q1\n",
        "R2 = p * q2\n",
        "\n",
        "MC = 10\n",
        "C1 = MC * q1\n",
        "C2 = MC * q2\n",
        "\n",
        "pi1 = sp.expand(R1 - C1)\n",
        "pi2 = sp.expand(R2 - C2)\n",
        "\n",
        "print(f\"pi1 = {pi1}\")\n",
        "print(f\"pi2 = {pi2}\")\n"
      ]
    },
    {
      "cell_type": "markdown",
      "metadata": {
        "id": "2Jf4IQFckK2L"
      },
      "source": [
        "### 3. Profit Functions:\n",
        "For NVIDIA:\n",
        "   $$\n",
        "   \\begin{align*}\n",
        "   \\pi_1 &= Pq_1 - C_1 \\\\\n",
        "   &= 90q_1 - q_1^2-q_1q_2\n",
        "   \\end{align*}\n",
        "   $$\n",
        "   \n",
        "   where:\n",
        "   $$\n",
        "   \\begin{align*}\n",
        "   90q_1 &= \\text{NVIDIA's revenue from selling $q_1$ units at the market price} \\\\\n",
        "   -q_1^2 &= \\text{diminishing returns, revenue decreases as NVIDIA increases ouput} \\\\\n",
        "   -q_1q_2 &= \\text{competitive effect between the two firms} \\\\\n",
        "   \\end{align*}\n",
        "   $$\n",
        "For Samsung:\n",
        "   $$\n",
        "   \\begin{align*}\n",
        "   \\pi_2 &= Pq_2 - C_2 \\\\\n",
        "   &= 90q_2 - q_2^2-q_1q_2\n",
        "   \\end{align*}\n",
        "   $$\n",
        "   where:\n",
        "   $$\n",
        "   \\begin{align*}\n",
        "   90q_2 &= \\text{Samsung's revenue from selling $q_2$ units at the market price} \\\\\n",
        "   -q_2^2 &= \\text{diminishing returns, revenue decreases as Samsung increases ouput} \\\\\n",
        "   -q_1q_2 &= \\text{competitive effect between the two firms} \\\\\n",
        "   \\end{align*}\n",
        "   $$\n",
        "Both firms have identical profit functions, face the same demand curve, and share the same cost structure, implying they are in equal competitive positions with no advantage. This symmetry suggests their strategic decisions will be influenced similarly by the market, leading to a symmetric Cournot equilibrium where both firms produce similar quantities.\n",
        "\n",
        "With the Profit Functions, let's obtain the **First-Order Conditions**"
      ]
    },
    {
      "cell_type": "code",
      "execution_count": 7,
      "metadata": {
        "id": "FSdWUU4JkK2M",
        "outputId": "bd9ba96b-e4f1-47e5-abe7-ba021a3a9ce3",
        "colab": {
          "base_uri": "https://localhost:8080/"
        }
      },
      "outputs": [
        {
          "output_type": "stream",
          "name": "stdout",
          "text": [
            "FOC for NVIDIA: Eq(-2*q1 - q2 + 90, 0)\n",
            "FOC for Samsung: Eq(-q1 - 2*q2 + 90, 0)\n",
            "Equilibrium Quantities: {q1: 30, q2: 30}\n",
            "Reaction Function NVIDIA: q1 = 45 - q2/2\n",
            "Reaction Function for Samsung: q2 = 45 - q1/2\n"
          ]
        }
      ],
      "source": [
        "from sympy import symbols, Eq, solve, diff\n",
        "\n",
        "q1, q2 = symbols('q1 q2')\n",
        "\n",
        "pi1 = -q1**2 - q1*q2 + 90*q1\n",
        "pi2 = -q1*q2 - q2**2 + 90*q2\n",
        "\n",
        "foc1 = diff(pi1, q1)\n",
        "foc2 = diff(pi2, q2)\n",
        "\n",
        "print(\"FOC for NVIDIA:\", Eq(foc1, 0))\n",
        "print(\"FOC for Samsung:\", Eq(foc2, 0))\n",
        "\n",
        "solution = solve((Eq(foc1, 0), Eq(foc2, 0)), (q1, q2))\n",
        "\n",
        "print(\"Equilibrium Quantities:\", solution)\n",
        "\n",
        "reaction_q1 = solve(Eq(foc1, 0), q1)\n",
        "reaction_q2 = solve(Eq(foc2, 0), q2)\n",
        "\n",
        "print(\"Reaction Function NVIDIA: q1 =\", reaction_q1[0])\n",
        "print(\"Reaction Function for Samsung: q2 =\", reaction_q2[0])"
      ]
    },
    {
      "cell_type": "markdown",
      "metadata": {
        "id": "US_es7mVkK2M"
      },
      "source": [
        "### 4. First-Order Conditions (FOCs)\n",
        "\n",
        "To find the **Cournot equilibrium**, each firm maximizes its profit by choosing its own quantity while considering the other firm’s output. The **first-order conditions (FOCs)** are found by taking the derivative of each firm's profit function with respect to its own quantity and setting it equal to zero.  \n",
        "\n",
        "For **NVIDIA** :\n",
        "$$\n",
        "\\begin{align*}\n",
        "    \\frac{\\partial \\pi_1}{\\partial q_1} &= -2q_1 - q_2 + 90 = 0 \\\\\n",
        "    2q_1 - q_2 &= 90 \\\\\n",
        "    q_1^* &= 45 - \\frac{q_2}{2}\n",
        "\\end{align*}\n",
        "$$\n",
        "\n",
        "For **Samsung** :\n",
        "$$\n",
        "\\begin{align*}\n",
        "    \\frac{\\partial \\pi_2}{\\partial q_2} &= -q_1 - 2q_2 + 90 = 0 \\\\\n",
        "    q_1 - 2q_2 &= 90 \\\\\n",
        "    q_2^* &= 45 - \\frac{q_1}{2}\n",
        "\\end{align*}\n",
        "$$\n",
        "\n",
        "### 5. Reaction Functions\n",
        "For NVIDIA,\n",
        "$$\n",
        "\\begin{align*}\n",
        "    q_1^* &= 45 - \\frac{q_2}{2}\n",
        "\\end{align*}\n",
        "$$\n",
        "\n",
        "For Samsung,\n",
        "\n",
        "$$\n",
        "\\begin{align*}\n",
        "    q_2^* &= 45 - \\frac{q_1}{2}\n",
        "\\end{align*}\n",
        "$$\n",
        "The **best response functions or reaction functions** show how each firm will adjust its output based on the output of the other firm. NVIDIA’s reaction function tells us how much they should produce given the amount Samsung produces, and vice versa.\n",
        "### 6. Cournot Equilibrium Quantities\n",
        "\n",
        "The Cournot equilibrium is found by solving these two equations simultaneously. Substituting one into the other:  \n",
        "\n",
        "$$\n",
        "q_1 = 45 - \\frac{q_2}{2}\\\\\n",
        "q_1 = 45 - \\frac{(45 - \\frac{q_1}{2})}{2}\\\\\n",
        "q_1 = 30\n",
        "$$\n",
        "\n",
        "$$\n",
        "q_2 = 45 - \\frac{q_1}{2}\\\\\n",
        "q_2 = 45 - \\frac{30}{2}\\\\\n",
        "q_2 = 30\n",
        "$$\n",
        "\n",
        "The **Cournot equilibrium quantities** are:\n",
        "\n",
        "$$\n",
        "\\begin{align*}\n",
        "(q_1^*, q_2^*) \\\\\n",
        "q_1^*=30, q_2^*=30 \\\n",
        "\\end{align*}\n",
        "$$\n",
        "\n",
        "This means that at the **Cournot equilibrium**, both NVIDIA and Samsung will each produce 30 units of DRAM chips.\n",
        "\n",
        "When both firms produce the same number of units, it means that the market is in a **symmetric equilibrium**. This happens because both firms are facing identical market conditions (same costs, same demand curve, same reaction functions), and they end up making the same decision in terms of output."
      ]
    },
    {
      "cell_type": "code",
      "execution_count": 8,
      "metadata": {
        "id": "GSgbOQDxkK2N",
        "outputId": "e7ace0f2-74b3-4eed-e006-e75ce382ba07",
        "colab": {
          "base_uri": "https://localhost:8080/"
        }
      },
      "outputs": [
        {
          "output_type": "stream",
          "name": "stdout",
          "text": [
            "Total Market Quantity (Q*): 60\n",
            "Equilibrium Price (P*): 40\n"
          ]
        }
      ],
      "source": [
        "from sympy import symbols, Eq, solve\n",
        "\n",
        "q1, q2, Q, P = symbols('q1 q2 Q P')\n",
        "\n",
        "q1_star = 30\n",
        "q2_star = 30\n",
        "\n",
        "Q_star = q1_star + q2_star\n",
        "\n",
        "P_eq = Eq(P, 100 - Q)\n",
        "\n",
        "P_star = solve(P_eq.subs(Q, Q_star), P)[0]\n",
        "\n",
        "print(\"Total Market Quantity (Q*):\", Q_star)\n",
        "print(\"Equilibrium Price (P*):\", P_star)\n"
      ]
    },
    {
      "cell_type": "markdown",
      "metadata": {
        "id": "iG0LZOUdkK2O"
      },
      "source": [
        "### 7. Total Market Quantity & Price\n",
        "The total output in the market, denoted as $Q^*$, is the sum of the quantities produced by both firms at the Cournot equilibrium. Since both NVIDIA and Samsung produce 30 units each, we calculate:\n",
        "\n",
        "Total output in the market:\n",
        "   $$\n",
        "   Q^* = q_1^* + q_2^*\\\\\n",
        "   \\\\ = 30 + 30\n",
        "   \\\\ = 60\n",
        "   $$\n",
        "\n",
        "To find the equilibrium price, we use the market demand function:\n",
        "$$\n",
        "P = 100 -Q\n",
        "$$\n",
        "\n",
        "Where $Q$ is the total output in the market. Substituting $Q^∗= 60$ into the demand function:\n",
        "\n",
        "   $$\n",
        "   P^* = 100 - Q^*  \n",
        "   \\\\ = 100 -60\n",
        "   \\\\ = 40\n",
        "   $$\n",
        "\n",
        "This means that, at the Cournot equilibrium, both firms together produce 60 units of DRAM chips, and the market price for each unit will be 40.\n",
        "\n"
      ]
    },
    {
      "cell_type": "code",
      "execution_count": 9,
      "metadata": {
        "id": "_5q0c_tNkK2P",
        "outputId": "31c83f69-af4b-4aaf-d3e0-985de5b2d436",
        "colab": {
          "base_uri": "https://localhost:8080/"
        }
      },
      "outputs": [
        {
          "output_type": "stream",
          "name": "stdout",
          "text": [
            "Equilibrium Profits: π1* = 900, π2* = 900\n"
          ]
        }
      ],
      "source": [
        "\n",
        "pi1_star = P_star * q1_star - MC * q1_star\n",
        "pi2_star = P_star * q2_star - MC * q2_star\n",
        "\n",
        "print(f\"Equilibrium Profits: π1* = {pi1_star}, π2* = {pi2_star}\")\n"
      ]
    },
    {
      "cell_type": "markdown",
      "metadata": {
        "id": "Ioal4AAvkK2Q"
      },
      "source": [
        "### 8. Profits in Equilibrium\n",
        "\n",
        "**Equilibrium profit** is the amount of money each firm makes when they reach a balance in the market. This happens when both firms have decided on how much to produce, considering what the other firm is doing, and neither firm can improve its profits by changing its production.\n",
        "\n",
        "Where the equation for NVIDIA is:\n",
        "\n",
        "$$\n",
        "\\pi_1^* = P^* \\times q_1^* - MC \\times q_1^*\\\\\n",
        "\\pi_1^* = 900\n",
        "$$\n",
        "\n",
        "where:\n",
        "\n",
        "   \\begin{align*}\n",
        "   P^* &= \\text{market price at equilibrium} \\\\\n",
        "   q_1^*&= \\text{quantities produced by NVIDIA} \\\\\n",
        "   MC &= \\text{marginal cost} \\\\\n",
        "   \\end{align*}\n",
        "\n",
        "And for Samsung is:\n",
        "$$\n",
        "\\pi_2^* = P^* \\times q_2^* - MC \\times q_2^*\\\\\n",
        "\\pi_2^* = 900\n",
        "$$\n",
        "\n",
        "where:\n",
        "\n",
        "   \\begin{align*}\n",
        "   P^* &= \\text{market price at equilibrium} \\\\\n",
        "   q_2^*&= \\text{quantities produced by Samsung} \\\\\n",
        "   MC &= \\text{marginal cost} \\\\\n",
        "   \\end{align*}\n",
        "\n",
        "After calculating, both NVIDIA and Samsung will each make a profit of $900$ at the equilibrium point.\n",
        "\n",
        "In simple words, since both firms produce the same quantity and the price in the market is the same for both, they end up with the same profit of $900$. This shows that, under the Cournot model, both firms are in equal competition and share the profits evenly."
      ]
    },
    {
      "cell_type": "code",
      "execution_count": 10,
      "metadata": {
        "id": "Xt3rHRgPkK2Q",
        "outputId": "c6344897-cc55-49e5-af55-3a23107caf02",
        "colab": {
          "base_uri": "https://localhost:8080/",
          "height": 573
        }
      },
      "outputs": [
        {
          "output_type": "display_data",
          "data": {
            "text/plain": [
              "<Figure size 800x600 with 1 Axes>"
            ],
            "image/png": "[encoded data removed]"
          },
          "metadata": {}
        }
      ],
      "source": [
        "import numpy as np\n",
        "import matplotlib.pyplot as plt\n",
        "\n",
        "\n",
        "Q_max = 90\n",
        "num_points = 100\n",
        "\n",
        "def nvidia_reaction(Q2):\n",
        "    return (Q_max - Q2) / 2\n",
        "\n",
        "def samsung_reaction(Q1):\n",
        "    return (Q_max - Q1) / 2\n",
        "\n",
        "Q2_vals = np.linspace(0, Q_max, num_points)\n",
        "Q1_vals_nvidia = nvidia_reaction(Q2_vals)\n",
        "\n",
        "Q1_vals = np.linspace(0, Q_max, num_points)\n",
        "Q2_vals_samsung = samsung_reaction(Q1_vals)\n",
        "\n",
        "E = (30, 30)\n",
        "\n",
        "plt.figure(figsize=(8, 6))\n",
        "plt.plot(Q1_vals, Q2_vals_samsung, label=\"Samsung's Reaction Function\", color='blue', linewidth=2, linestyle='-')\n",
        "plt.plot(Q1_vals_nvidia, Q2_vals, label=\"NVIDIA's Reaction Function\", color='green', linewidth=2, linestyle='-')\n",
        "\n",
        "plt.scatter(*E, color='red', label=\"Cournot Equilibrium\", zorder=3, s=80, edgecolors='black')\n",
        "\n",
        "plt.axhline(y=E[1], linestyle=\"dotted\", color=\"black\", alpha=0.7)\n",
        "plt.axvline(x=E[0], linestyle=\"dotted\", color=\"black\", alpha=0.7)\n",
        "\n",
        "plt.xlim(0, Q_max)\n",
        "plt.ylim(0, Q_max)\n",
        "\n",
        "plt.xlabel(\"NVIDIA's Output ($Q_1$)\", fontsize=12)\n",
        "plt.ylabel(\"Samsung's Output ($Q_2$)\", fontsize=12)\n",
        "plt.title(\"Cournot Reaction Functions\", fontsize=14, fontweight='bold')\n",
        "plt.legend(fontsize=10)\n",
        "plt.grid(True, linestyle='--', alpha=0.6)\n",
        "\n",
        "plt.xticks(np.arange(0, Q_max + 10, 10))\n",
        "plt.yticks(np.arange(0, Q_max + 10, 10))\n",
        "\n",
        "plt.show()\n"
      ]
    },
    {
      "cell_type": "markdown",
      "metadata": {
        "id": "WAo3h44DkK2R"
      },
      "source": [
        "### Reaction Functions and Cournot Equilibrium Output Graph\n",
        "\n",
        "\n",
        "1. **Reaction Functions:**\n",
        "\n",
        "    The two curves in the graph represent each firm's reaction function. How NVIDIA's output depends on Samsung's output, and vice versa\n",
        "\n",
        "    These curves are based on the condition that each firm chooses its output to maximize profit given the output of the other firm.\n",
        "\n",
        "2. **Cournot Equilibrium:**\n",
        "\n",
        "    The red dot at (30, 30) shows the **Cournot equilibrium**. This is where the two firms’ output decisions balance out, meaning both are making the best choice given what the other firm is doing. At this point, neither firm has a reason to change its production.\n",
        "\n",
        "4. **Equilibrium Output Levels:**\n",
        "\n",
        "    The equilibrium output levels for each firm is 30 units ($q_1^*=30$ and $q_2^*=30$). This is the point where the two reaction functions intersect."
      ]
    },
    {
      "cell_type": "markdown",
      "metadata": {
        "id": "dzvZ6xGBkK2S"
      },
      "source": [
        "## **Let' suppose that the US Government wants to implement a tax on all foreign DRAM chips** ##\n",
        "\n",
        "Assume that NVIDIA is an American company that produces all DRAM chips in house (in the US), and Samsung is a South Korean company that imports all DRAM chips to the US. How would this affectSamsung’s cost structure and pricing strategy?\n",
        "\n",
        "Assume that the tax is 45%.\n",
        "\n",
        "### 1. Market Demand Function\n",
        "\n",
        "The **demand function** before the tax for DRAM chips is:\n",
        "   $$\n",
        "   \\begin{align}\n",
        "   \\ P = 100 - q_1 - q_2 \\\\\n",
        "   \\end{align}\n",
        "   $$\n",
        "   where:\n",
        "   $$\n",
        "   \\begin{align*}\n",
        "   P &= \\text{market price of DRAM chips} \\\\\n",
        "   q_1 &= \\text{output of NVIDIA} \\\\\n",
        "   q_2 &= \\text{output of Samsung} \\\\\n",
        "   \\end{align*}\n",
        "   $$\n",
        "   \n",
        "\n",
        "The demand function remains unchanged because the tax does not directly affect the market demand for DRAM chips"
      ]
    },
    {
      "cell_type": "code",
      "execution_count": 11,
      "metadata": {
        "id": "ctAhTXa2kK2S",
        "outputId": "1e139767-6cd7-4c98-d45f-6546ab6d0987",
        "colab": {
          "base_uri": "https://localhost:8080/"
        }
      },
      "outputs": [
        {
          "output_type": "stream",
          "name": "stdout",
          "text": [
            "Samsung's MC after the 45% tax: 14.5\n"
          ]
        }
      ],
      "source": [
        "original_mc_samsung = 10\n",
        "\n",
        "tax_rate = 0.45\n",
        "\n",
        "new_mc_samsung = original_mc_samsung * (1 + tax_rate)\n",
        "\n",
        "print(\"Samsung's MC after the 45% tax:\", new_mc_samsung)"
      ]
    },
    {
      "cell_type": "markdown",
      "metadata": {
        "id": "eLSyVERzkK2S"
      },
      "source": [
        "\n",
        "Since NVIDIA's production of the DRAM chips is in the US, it's not subject to the tax. The marginal cost remains unchanged at:\n",
        "\n",
        "NVIDIA's marginal cost (MC):\n",
        "  $$\n",
        "   \\begin{align*}\n",
        "   \\ MC_1= 10\n",
        "   \\end{align*}\n",
        "   $$\n",
        "\n",
        "\n",
        "Since Samsung produces the chips overseas, they are subject to a 45% tax. The new marginal cost for Samsung is:\n",
        "\n",
        "Samsung's marginal cost (MC):\n",
        "  $$\n",
        "   \\begin{align*}\n",
        "   \\ MC_2= 14.5\n",
        "   \\end{align*}\n",
        "   $$\n",
        "### 2. Cost Functions:\n",
        "\n",
        "  **New Cost Functions:**\n",
        "   \n",
        "   For NVIDIA:\n",
        "  $$\n",
        "   \\begin{align*}\n",
        "   \\ C_1 = 10 * q_1 \\\\\n",
        "   \\end{align*}\n",
        "   $$\n",
        "   \n",
        "  For Samsung:\n",
        "  $$\n",
        "   \\begin{align*}\n",
        "    \\ C_2 = 14.5 * q_2\n",
        "   \\end{align*}\n",
        "   $$\n",
        "\n",
        "  This increase in Samsung's MC will likely impact their pricing and output decisions, while NVIDIA’s cost structure remains the same. The tax gives NVIDIA a competitive advantage as their production cost remains lower than Samsung’s, likely allowing them to capture more market share."
      ]
    },
    {
      "cell_type": "code",
      "execution_count": 12,
      "metadata": {
        "id": "ySHjN_b_kK2T",
        "outputId": "04135ba1-144b-4dd0-bdba-c385301fb2cc",
        "colab": {
          "base_uri": "https://localhost:8080/"
        }
      },
      "outputs": [
        {
          "output_type": "stream",
          "name": "stdout",
          "text": [
            "pi1 = -q1**2 - q1*q2 + 90*q1\n",
            "pi2 = -q1*q2 - q2**2 + 85.5*q2\n"
          ]
        }
      ],
      "source": [
        "import sympy as sp\n",
        "\n",
        "q1, q2 = sp.symbols('q1 q2')\n",
        "p = 100 - q1 - q2\n",
        "\n",
        "R1 = p * q1\n",
        "R2 = p * q2\n",
        "\n",
        "C1 = 10 * q1\n",
        "C2 = 14.5 * q2\n",
        "\n",
        "pi1 = sp.expand(R1 - C1)\n",
        "pi2 = sp.expand(R2 - C2)\n",
        "\n",
        "print(f\"pi1 = {pi1}\")\n",
        "print(f\"pi2 = {pi2}\")\n"
      ]
    },
    {
      "cell_type": "markdown",
      "metadata": {
        "id": "fPv8kDLekK2T"
      },
      "source": [
        "### 3. Profit Functions\n",
        "\n",
        "NVIDIA's profit function remains unchanged as the MC remains the same. So its profit function is:\n",
        "   $$\n",
        "   \\begin{align*}\n",
        "   \\pi_1 &= Pq_1 - C_1 \\\\\n",
        "   &= 90q_1 - q_1^2-q_1q_2\n",
        "   \\end{align*}\n",
        "   $$\n",
        "And Samsung's:\n",
        "   $$\n",
        "   \\begin{align*}\n",
        "   \\pi_2 &= Pq_2 - C_2 \\\\\n",
        "   &= 85.5q_2 - q_2^2-q_1q_2\n",
        "   \\end{align*}\n",
        "   $$\n",
        "\n",
        "After the tax is implemented, we see that the coefficient in $\\pi_2$ for $q​_2$ decreases from 90 to 85.5, which means Samsung now earns less profit per unit sold compared to before the tax. This reflects the higher production costs due to the tax."
      ]
    },
    {
      "cell_type": "code",
      "execution_count": 13,
      "metadata": {
        "id": "p83nOljmkK2U",
        "outputId": "33132510-38b5-4de8-be87-8d8a1c18bd9e",
        "colab": {
          "base_uri": "https://localhost:8080/"
        }
      },
      "outputs": [
        {
          "output_type": "stream",
          "name": "stdout",
          "text": [
            "FOC for NVIDIA: Eq(-2*q1 - q2 + 90, 0)\n",
            "FOC for Samsung: Eq(-q1 - 2*q2 + 85.5, 0)\n",
            "Reaction Function NVIDIA: q1^* = 45 - q2/2\n",
            "Reaction Function for Samsung: q2^* = 42.75 - 0.5*q1\n"
          ]
        }
      ],
      "source": [
        "from sympy import symbols, Eq, solve, diff\n",
        "\n",
        "q1, q2 = symbols('q1 q2')\n",
        "\n",
        "pi1 = -q1**2 - q1*q2 + 90*q1\n",
        "pi2 = -q1*q2 - q2**2 + 85.5*q2\n",
        "\n",
        "foc1 = diff(pi1, q1)\n",
        "foc2 = diff(pi2, q2)\n",
        "\n",
        "print(\"FOC for NVIDIA:\", Eq(foc1, 0))\n",
        "print(\"FOC for Samsung:\", Eq(foc2, 0))\n",
        "\n",
        "reaction_q1 = solve(Eq(foc1, 0), q1)\n",
        "reaction_q2 = solve(Eq(foc2, 0), q2)\n",
        "\n",
        "print(\"Reaction Function NVIDIA: q1^* =\", reaction_q1[0])\n",
        "print(\"Reaction Function for Samsung: q2^* =\", reaction_q2[0])\n",
        "\n"
      ]
    },
    {
      "cell_type": "markdown",
      "metadata": {
        "id": "N1zsaBC0kK2U"
      },
      "source": [
        "### 4. First-Order Conditions (FOCs)\n",
        "\n",
        "For **NVIDIA** :\n",
        "$$\n",
        "\\begin{align*}\n",
        "    \\frac{\\partial \\pi_1}{\\partial q_1} &= -2q_1 - q_2 + 90 = 0 \\\\\n",
        "    2q_1 - q_2 &= 90 \\\\\n",
        "    q_1^* &= 45 - \\frac{q_2}{2}\n",
        "\\end{align*}\n",
        "$$\n",
        "\n",
        "Where $q_1^*$ represents NVIDIA's best response function. It shows how NVIDIA's optimal output ($q_1$) depends on Samsung's output ($q_2$).\n",
        "\n",
        "\n",
        "For **Samsung** :\n",
        "$$\n",
        "\\begin{align*}\n",
        "    \\frac{\\partial \\pi_2}{\\partial q_2} &= -q_1 - 2q_2 + 85.5 = 0 \\\\\n",
        "    q_1 - 2q_2 &= 85.5 \\\\\n",
        "    q_2^* &= 42.75 - 0.5 q_1\n",
        "\\end{align*}\n",
        "$$\n",
        "\n",
        "Where $q_2^*$ represents Samsung's best response function. It shows how Samsung's optimal output ($q_2$) depends on NVIDIA's output ($q_1$).\n",
        "\n",
        "### 5. Reaction Functions\n",
        "For NVIDIA,\n",
        "$$\n",
        "\\begin{align*}\n",
        "    q_1^* &= 45 - \\frac{q_2}{2}\n",
        "\\end{align*}\n",
        "$$\n",
        "\n",
        "For Samsung,\n",
        "\n",
        "$$\n",
        "\\begin{align*}\n",
        "    q_2^* &= 42.75 - 0.5 q_1\n",
        "\\end{align*}\n",
        "$$\n",
        "\n",
        "NVIDIA’s reaction function is unchanged. On the other hand, the tax lowers Samsung’s best response output (was 45 before tax), meaning that they will be less competitive and produce fewer units compared to NVIDIA\n"
      ]
    },
    {
      "cell_type": "code",
      "execution_count": 14,
      "metadata": {
        "id": "YazBrP2ZkK2V",
        "outputId": "db1d72ed-285a-483a-98e3-779fd75a938d",
        "colab": {
          "base_uri": "https://localhost:8080/"
        }
      },
      "outputs": [
        {
          "output_type": "stream",
          "name": "stdout",
          "text": [
            "Equilibrium Quantities: {q1: 31.5000000000000, q2: 27.0000000000000}\n"
          ]
        }
      ],
      "source": [
        "solution = solve((Eq(foc1, 0), Eq(foc2, 0)), (q1, q2))\n",
        "\n",
        "print(\"Equilibrium Quantities:\", solution)\n",
        "\n"
      ]
    },
    {
      "cell_type": "markdown",
      "metadata": {
        "id": "bGMBMIkVkK2V"
      },
      "source": [
        "### 6. Cournot Equilibrium Quantities\n",
        "\n",
        "The Cournot equilibrium is found by solving these two equations simultaneously. Substituting one into the other:  \n",
        "\n",
        "$$\n",
        "q_1 = 45 - \\frac{q_2}{2}\\\\\n",
        "q_1 = 45 - \\frac{(42.75 - .5q_1)}{2}\\\\\n",
        "q_1 = 31.5\n",
        "$$\n",
        "\n",
        "$$\n",
        "\\begin{align*}\n",
        "    q_2 &= 42.75 -.5q_1\\\\\n",
        "    q_2 &= 42.75 - 0.5\\left(45 - \\frac{q_2}{2}\\right) \\\\\n",
        "    q_2 &= 27\n",
        "\\end{align*}\n",
        "$$\n",
        "\n",
        "\n",
        "The **Cournot equilibrium quantities** are:\n",
        "\n",
        "$$\n",
        "\\begin{align*}\n",
        "(q_1^*, q_2^*) \\\\\n",
        "q_1^*=31.5, q_2^*=27 \\\n",
        "\\end{align*}\n",
        "$$\n",
        "\n",
        "At the Cournot equilibrium, NVIDIA produces 31.5 units, while Samsung produces 27 units of DRAM chips.\n",
        "\n",
        "This result shows that due to the tax on Samsung, its equilibrium output is lower than before (previously 30), while NVIDIA produces slightly more than Samsung. The tax makes Samsung’s production less competitive, shifting more market share to NVIDIA\n"
      ]
    },
    {
      "cell_type": "code",
      "execution_count": 15,
      "metadata": {
        "id": "W9sFgZnlkK2V",
        "outputId": "382ef082-cc1a-4945-e4f3-029e7ccd3db7",
        "colab": {
          "base_uri": "https://localhost:8080/"
        }
      },
      "outputs": [
        {
          "output_type": "stream",
          "name": "stdout",
          "text": [
            "Total Market Quantity (Q*): 58.5\n",
            "Equilibrium Price (P*): 41.5000000000000\n"
          ]
        }
      ],
      "source": [
        "from sympy import symbols, Eq, solve\n",
        "\n",
        "q1, q2, Q, P = symbols('q1 q2 Q P')\n",
        "\n",
        "q1_star = 31.5\n",
        "q2_star = 27\n",
        "\n",
        "Q_star = q1_star + q2_star\n",
        "\n",
        "P_eq = Eq(P, 100 - Q)\n",
        "\n",
        "P_star = solve(P_eq.subs(Q, Q_star), P)[0]\n",
        "\n",
        "print(\"Total Market Quantity (Q*):\", Q_star)\n",
        "print(\"Equilibrium Price (P*):\", P_star)\n",
        "\n"
      ]
    },
    {
      "cell_type": "markdown",
      "metadata": {
        "id": "DI8ptDsWkK2W"
      },
      "source": [
        "### 7. Total Market Quantity & Price\n",
        "The total output in the market, denoted as $Q^*$, is the sum of the quantities produced by both firms at the Cournot equilibrium. Now NVIDIA produces 31.5 units and Samsung produce 27 units, we calculate:\n",
        "\n",
        "Total output in the market:\n",
        "   $$\n",
        "   Q^* = q_1^* + q_2^*\\\\\n",
        "   \\\\ = 31.5 + 27\n",
        "   \\\\ = 58.5\n",
        "   $$\n",
        "\n",
        "To find the equilibrium price, we use the market demand function:\n",
        "$$\n",
        "P = 100 -Q\n",
        "$$\n",
        "\n",
        "Where $Q$ is the total output in the market. Substituting $Q^∗= 58.5$ into the demand function:\n",
        "\n",
        "   $$\n",
        "   P^* = 100 - Q^*  \n",
        "   \\\\ = 100 -58.5\n",
        "   \\\\ = 41.5\n",
        "   $$\n",
        "\n",
        "This means that, at the Cournot equilibrium, both firms produce a total of $58.5$ units of DRAM chips, and the market price for each unit will be $41.5$\n",
        "\n",
        "Since the tax makes it more expensive for Samsung to produce, they end up making fewer chips, so the total market output drops from $60$ to $58.5$ Because there are fewer chips available, the price goes up from $40$ to $41.5$\n",
        "\n",
        "This tax hurts Samsung the most because they produce less and have higher costs, while NVIDIA benefits slightly by producing more. But now consumers have to pay a higher price for DRAM chips.\n",
        "\n"
      ]
    },
    {
      "cell_type": "code",
      "execution_count": 16,
      "metadata": {
        "id": "Gyt_cPg4kK2W",
        "outputId": "58bac42a-1358-4eef-991b-f7f371f0dc7b",
        "colab": {
          "base_uri": "https://localhost:8080/"
        }
      },
      "outputs": [
        {
          "output_type": "stream",
          "name": "stdout",
          "text": [
            "Equilibrium Profits: π1* = 992.250000000000, π2* = 729.000000000000\n"
          ]
        }
      ],
      "source": [
        "MC1 = 10\n",
        "MC2 = 14.5\n",
        "\n",
        "pi1_star = P_star * q1_star - MC1 * q1_star\n",
        "pi2_star = P_star * q2_star - MC2 * q2_star\n",
        "\n",
        "print(f\"Equilibrium Profits: π1* = {pi1_star}, π2* = {pi2_star}\")"
      ]
    },
    {
      "cell_type": "markdown",
      "metadata": {
        "id": "ie9RCpqjkK2W"
      },
      "source": [
        "### 8. Profits in Equilibrium\n",
        "\n",
        "Where the equation for NVIDIA is:\n",
        "\n",
        "$$\n",
        "\\pi_1^* = P^* \\times q_1^* - MC \\times q_1^*\n",
        "\\\\pi_1^* = 992.25\n",
        "$$\n",
        "\n",
        "\n",
        "And for Samsung is:\n",
        "$$\n",
        "\\pi_2^* = P^* \\times q_2^* - MC \\times q_2^*\n",
        "\\\\pi_2^* = 729.0\n",
        "$$\n",
        "\n",
        "In the base case, where there was no tax, both NVIDIA and Samsung had the same profit of $900$ each, since their marginal costs were both the same at $10$, and they produced quantities of $45$ units each.\n",
        "\n",
        "**NVIDIA's Higher Profit**\n",
        "\n",
        "Now NVIDIA earns $992.25$ in profit, compared to the $900$ it made before the tax was implemented. This is because the tax only affected Samsung, so NVIDIA’s marginal cost remained the same at $10$, and it was able NVIDIA produces more output ($q_1^*$ = 31.5) than Samsung ($q_2^*$ = 27) in equilibrium.\n",
        "\n",
        "**Samsung's Lower Profit**\n",
        "\n",
        "After the tax is implemented, Samsung now earns $729.0$ in profit, which is lower than the previous $900$ it did before the tax was implemented.\n",
        "This is because Samsung has a higher marginal cost ($14.5$) due to the 45% tax compared to the previous $10$ it had. And produces less output ($q_2^*$ = 27)than NVIDIA ($q_1^*$ = 31.5) in equilibrium.\n",
        "\n",
        "**Impact of the Tax**\n",
        "\n",
        "The 45% tax increases Samsung's marginal cost, making it less competitive in the market. Now, Samsung produces less output, earns lower profits compared to NVIDIA, and NVIDIA benefits from the tax, as it faces no additional cost and can produce more output, earning higher profits."
      ]
    },
    {
      "cell_type": "code",
      "execution_count": 17,
      "metadata": {
        "id": "GcbfBEyJkK2W",
        "outputId": "ead08631-4f26-4390-a115-bbe48883cea2",
        "colab": {
          "base_uri": "https://localhost:8080/",
          "height": 491
        }
      },
      "outputs": [
        {
          "output_type": "display_data",
          "data": {
            "text/plain": [
              "<Figure size 700x500 with 1 Axes>"
            ],
            "image/png": "[encoded data removed]"
          },
          "metadata": {}
        }
      ],
      "source": [
        "import numpy as np\n",
        "import matplotlib.pyplot as plt\n",
        "\n",
        "\n",
        "def nvidia_reaction(Q2):\n",
        "    return 45 - 0.5 * Q2\n",
        "\n",
        "def samsung_reaction(Q1):\n",
        "    return 42.75 - 0.5 * Q1\n",
        "\n",
        "# Generate data points\n",
        "Q2_vals = np.linspace(0, 90, 100)\n",
        "Q1_vals_nvidia = nvidia_reaction(Q2_vals)\n",
        "Q1_vals_samsung = np.linspace(0, 90, 100)\n",
        "Q2_vals_samsung = samsung_reaction(Q1_vals_samsung)\n",
        "\n",
        "\n",
        "E = (31.5, 27)\n",
        "\n",
        "\n",
        "plt.figure(figsize=(7, 5))\n",
        "plt.plot(Q1_vals_samsung, Q2_vals_samsung, label=\"Samsung's Reaction Function\", color='blue')\n",
        "plt.plot(Q1_vals_nvidia, Q2_vals, label=\"NVIDIA's Reaction Function\", color='green')\n",
        "\n",
        "\n",
        "plt.scatter(*E, color='red', label=\"Cournot Equilibrium\", zorder=3)\n",
        "\n",
        "\n",
        "plt.axhline(y=27, linestyle=\"dotted\", color=\"black\")\n",
        "plt.axvline(x=31.5, linestyle=\"dotted\", color=\"black\")\n",
        "\n",
        "\n",
        "plt.xlabel(\"NVIDIA's Output ($Q_1$)\")\n",
        "plt.ylabel(\"Samsung's Output ($Q_2$)\")\n",
        "plt.title(\"Cournot Reaction Functions\")\n",
        "plt.legend()\n",
        "plt.grid(True)\n",
        "\n",
        "plt.xticks(np.arange(0, 100, 10))\n",
        "plt.yticks(np.arange(0, 100, 10))\n",
        "\n",
        "\n",
        "plt.show()"
      ]
    },
    {
      "cell_type": "markdown",
      "metadata": {
        "id": "AQ5O6v01kK2X"
      },
      "source": [
        "### Reaction Functions and Cournot Equilibrium\n",
        "\n",
        "NVIDIA's reaction function (is in green) $q_1 = 45 - 0.5q_2$\n",
        "\n",
        "Samsung's reaction function (in blue) is given by: $q_2 = 42.75 - 0.5q_1$\n",
        "\n",
        "\n",
        "The Cournot equilibrium is marked with a red dot at $(31.5,27)$, where both firms' reaction functions intersect. This is the point where both firms' outputs are optimal given the other's output.\n",
        "\n",
        "Dashed lines are added at $q_1 = 31.5$ and $q_2 = 27$ to highlight the equilibrium.\n",
        "\n",
        "The x-axis represents NVIDIA's output ($Q_1$)\n",
        "\n",
        "The y-axis represents Samsung's output ($Q_2$)\n"
      ]
    },
    {
      "cell_type": "markdown",
      "metadata": {
        "id": "MkiLp9a2kK2X"
      },
      "source": [
        "### Economic Analysis\n",
        "\n",
        "In the absence of the 45% tax, both NVIDIA and Samsung have the same marginal cost $(MC = 10)$, leading to equal output levels of $30$ units each and a market price of $40$, with both firms earning $900$ in profit. However, after the tax, Samsung's marginal cost rises to $14.5$, causing it to reduce output to $27$ units, which raises the price to $41.5$. Meanwhile, NVIDIA’s output increases to $31.5$, and its profit rises to $992.25$. Samsung’s profit drops to $729$. The tax thus distorts the equilibrium by reducing total output (from $60$ to $58.5$), increasing prices, and creating inefficiency, benefiting NVIDIA but hurting Samsung, consumers, and overall market efficiency."
      ]
    }
  ],
  "metadata": {
    "kernelspec": {
      "display_name": "base",
      "language": "python",
      "name": "python3"
    },
    "language_info": {
      "codemirror_mode": {
        "name": "ipython",
        "version": 3
      },
      "file_extension": ".py",
      "mimetype": "text/x-python",
      "name": "python",
      "nbconvert_exporter": "python",
      "pygments_lexer": "ipython3",
      "version": "3.12.7"
    },
    "colab": {
      "provenance": []
    }
  },
  "nbformat": 4,
  "nbformat_minor": 0
}